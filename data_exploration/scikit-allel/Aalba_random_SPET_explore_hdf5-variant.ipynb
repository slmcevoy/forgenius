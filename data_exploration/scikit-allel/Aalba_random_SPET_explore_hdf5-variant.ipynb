{
 "cells": [
  {
   "cell_type": "code",
   "execution_count": null,
   "id": "610b4b2d",
   "metadata": {
    "scrolled": true
   },
   "outputs": [],
   "source": [
    "import sys\n",
    "!{sys.executable} -m pip install --user scikit-allel"
   ]
  },
  {
   "cell_type": "code",
   "execution_count": 1,
   "id": "03d943b9",
   "metadata": {
    "scrolled": true
   },
   "outputs": [
    {
     "name": "stdout",
     "output_type": "stream",
     "text": [
      "scikit-allel 1.3.8\n"
     ]
    }
   ],
   "source": [
    "import numpy as np\n",
    "import scipy\n",
    "import pandas\n",
    "import matplotlib as mpl\n",
    "import matplotlib.pyplot as plt\n",
    "%matplotlib inline\n",
    "import seaborn as sns\n",
    "sns.set_style('white')\n",
    "sns.set_style('ticks')\n",
    "sns.set_context('notebook')\n",
    "import h5py\n",
    "import allel; print('scikit-allel', allel.__version__)"
   ]
  },
  {
   "cell_type": "markdown",
   "id": "d26a811a-16e5-4fbb-b4fe-5f98ba4ce662",
   "metadata": {
    "jp-MarkdownHeadingCollapsed": true
   },
   "source": [
    "### create a filtered VCF containing only invariant sites\n",
    "vcftools --gzvcf \"$OUTDIR/$INPUT\" \\\n",
    "        --max-maf 0 \\\n",
    "        --recode --recode-INFO-all --stdout | bgzip -c > \"$OUTDIR/$INVARIANT\"\n",
    "\n",
    "### create a filtered VCF containing only variant sites\n",
    "vcftools --gzvcf \"$OUTDIR/$INPUT\" \\\n",
    "        --mac 1 \\\n",
    "        --recode --recode-INFO-all --stdout | bgzip -c > \"$OUTDIR/$VARIANT\"\n",
    "\n",
    "### index both vcfs using tabix\n",
    "tabix -f \"$OUTDIR/$INVARIANT\"\n",
    "tabix -f \"$OUTDIR/$VARIANT\""
   ]
  },
  {
   "cell_type": "markdown",
   "id": "52806ea3-68d7-476e-8054-71ff08951239",
   "metadata": {},
   "source": [
    "## Get data"
   ]
  },
  {
   "cell_type": "code",
   "execution_count": null,
   "id": "662b0204",
   "metadata": {},
   "outputs": [],
   "source": [
    "callset_fn = '/users/mcevoysu/scratch/output/Aalba_random/jupytertest/Aalba_random_SPET_allsites.h5'\n",
    "callset_all = h5py.File(callset_fn, mode='r')"
   ]
  },
  {
   "cell_type": "code",
   "execution_count": null,
   "id": "6e20bef7-5754-45db-990c-7b9db9370a87",
   "metadata": {},
   "outputs": [],
   "source": [
    "callset_invar_fn = '/users/mcevoysu/scratch/output/Aalba_random/jupytertest/Aalba_random_SPET_invariant.h5'\n",
    "callset_invar = h5py.File(callset_invar_fn, mode='r')"
   ]
  },
  {
   "cell_type": "markdown",
   "id": "20c3d191-275c-4d3c-a223-041e0e73bb1f",
   "metadata": {},
   "source": [
    "## Make datasets"
   ]
  },
  {
   "cell_type": "code",
   "execution_count": null,
   "id": "bbb73d3a",
   "metadata": {},
   "outputs": [],
   "source": [
    "allsites = allel.VariantChunkedTable(callset_all['variants'])\n",
    "invariants = allel.VariantChunkedTable(callset_invar['variants'])\n",
    "variants = allel.VariantChunkedTable(callset_var['variants'])\n",
    "variants_np = variants[:]\n",
    "invariants = invariants[:]\n",
    "rawsnps = variants_np.query('(is_snp == True)')\n",
    "rawindels = variants_np.query('(is_snp != True)')"
   ]
  },
  {
   "cell_type": "code",
   "execution_count": null,
   "id": "96767105-460b-4579-8582-e82b7418652b",
   "metadata": {},
   "outputs": [],
   "source": [
    "invariants"
   ]
  },
  {
   "cell_type": "markdown",
   "id": "f6123e69-ad5f-4426-b689-911478d2e771",
   "metadata": {},
   "source": [
    "## Make biallelic SNP dataset"
   ]
  },
  {
   "cell_type": "code",
   "execution_count": null,
   "id": "03fd7e12-7129-422b-a639-05304145f705",
   "metadata": {},
   "outputs": [],
   "source": [
    "filter_expression = '(numalt == 1)'\n",
    "biallelic_snps = rawsnps.query(filter_expression)[:]"
   ]
  },
  {
   "cell_type": "markdown",
   "id": "0321cb2e-d57c-4190-a787-c83fdd42a82c",
   "metadata": {},
   "source": [
    "## Plot function"
   ]
  },
  {
   "cell_type": "code",
   "execution_count": null,
   "id": "807c1848",
   "metadata": {},
   "outputs": [],
   "source": [
    "def plot_hist(f, dsubset='', bins=30 ):\n",
    "    if dsubset == 'invar':\n",
    "        x = invariants[f][:]\n",
    "        l = 'Invariant'\n",
    "    elif dsubset == 'var':\n",
    "        x = variants[f][:]\n",
    "        l = 'Variant'\n",
    "    elif dsubset == 'snp':\n",
    "        x = rawsnps[f][:]\n",
    "        l = 'Raw SNP'\n",
    "    elif dsubset == 'indel':\n",
    "        x = rawindels[f][:]\n",
    "        l = 'Raw Indel'\n",
    "    elif dsubset == 'sel':\n",
    "        x = snp_selection[f][:]\n",
    "        l = 'Filtered SNP'\n",
    "    elif dsubset == 'biallelic':\n",
    "        x = biallelic_snps[f][:]\n",
    "        l = 'Biallelic SNP'\n",
    "    else:\n",
    "        x = allsites[f][:]\n",
    "        l = 'Allsites'\n",
    "    fig, ax = plt.subplots(figsize=(10, 5))\n",
    "    sns.despine(ax=ax, offset=10)\n",
    "    ax.hist(x, bins=bins)\n",
    "    ax.set_xlabel(f)\n",
    "    ax.set_ylabel('No. variants')\n",
    "    ax.set_title('%s %s distribution' % (l, f))"
   ]
  },
  {
   "cell_type": "markdown",
   "id": "bfb5c058-87dc-47e5-9fd0-7d8c0f8f4e67",
   "metadata": {},
   "source": [
    "## QD - Variant Confidence/Quality by Depth"
   ]
  },
  {
   "cell_type": "code",
   "execution_count": null,
   "id": "c1275eac-39a2-48d4-8de3-69dc74badece",
   "metadata": {},
   "outputs": [],
   "source": [
    "plot_hist('QD','biallelic') # Variant Confidence/Quality by Depth"
   ]
  },
  {
   "cell_type": "code",
   "execution_count": null,
   "id": "eb8bcdc7-4c7c-4378-b2e9-820ad700ce3a",
   "metadata": {},
   "outputs": [],
   "source": [
    "filter_expression = '(QD >= 2.0)'\n",
    "snp_selection = rawsnps.query(filter_expression)[:]"
   ]
  },
  {
   "cell_type": "code",
   "execution_count": null,
   "id": "9ab82ab7-209e-432d-a6d2-a6e332cb4dbe",
   "metadata": {},
   "outputs": [],
   "source": [
    "plot_hist('QD','sel') # Variant Confidence/Quality by Depth"
   ]
  },
  {
   "cell_type": "code",
   "execution_count": null,
   "id": "7976a2b7",
   "metadata": {},
   "outputs": [],
   "source": [
    "plot_hist('QD','invar') # Variant Confidence/Quality by Depth"
   ]
  },
  {
   "cell_type": "code",
   "execution_count": null,
   "id": "10bd2492-3bdb-43cd-8f39-33031e39af1f",
   "metadata": {},
   "outputs": [],
   "source": [
    "filter_expression = '(QD >= 0.0)'\n",
    "invar_selection = invariants.query(filter_expression)[:]"
   ]
  },
  {
   "cell_type": "code",
   "execution_count": null,
   "id": "96834902-b528-4a83-884c-13fa93176ee4",
   "metadata": {},
   "outputs": [],
   "source": [
    "invar_selection"
   ]
  },
  {
   "cell_type": "code",
   "execution_count": null,
   "id": "29de1721-d0fb-4f6a-9fa8-c76f6399bda7",
   "metadata": {},
   "outputs": [],
   "source": [
    "invariants[0:3]"
   ]
  },
  {
   "cell_type": "code",
   "execution_count": null,
   "id": "7bdca2de-df85-45ec-8fc0-5cb17693903f",
   "metadata": {},
   "outputs": [],
   "source": [
    "plot_hist('QD','indel') # Variant Confidence/Quality by Depth"
   ]
  },
  {
   "cell_type": "markdown",
   "id": "de6241fb-79a8-4f88-85fe-6028ae63d2d0",
   "metadata": {},
   "source": [
    "## MQ - RMS mapping quality"
   ]
  },
  {
   "cell_type": "code",
   "execution_count": null,
   "id": "89512d4f-a6c4-4ed8-b80b-0a2f17fa9436",
   "metadata": {},
   "outputs": [],
   "source": [
    "plot_hist('MQ','biallelic')"
   ]
  },
  {
   "cell_type": "code",
   "execution_count": null,
   "id": "3699c0a9-b944-471f-ada0-84eaf1a34137",
   "metadata": {},
   "outputs": [],
   "source": [
    "filter_expression = '(MQ >= 40.0)'\n",
    "snp_selection = rawsnps.query(filter_expression)[:]"
   ]
  },
  {
   "cell_type": "code",
   "execution_count": null,
   "id": "4e397160-d2d6-4aca-a011-470bdeeba446",
   "metadata": {},
   "outputs": [],
   "source": [
    "plot_hist('MQ','invar')"
   ]
  },
  {
   "cell_type": "code",
   "execution_count": null,
   "id": "ba26e22a-f559-4fe5-81ac-f06e65c83d05",
   "metadata": {},
   "outputs": [],
   "source": [
    "plot_hist('MQ','indel')"
   ]
  },
  {
   "cell_type": "markdown",
   "id": "7ccd885e-c557-4cc3-805c-dd4c39f53de4",
   "metadata": {},
   "source": [
    "## SOR - Symmetric Odds Ratio of 2x2 contingency table to detect strand bias"
   ]
  },
  {
   "cell_type": "code",
   "execution_count": null,
   "id": "05bb011c",
   "metadata": {},
   "outputs": [],
   "source": [
    "plot_hist('SOR') # Symmetric Odds Ratio of 2x2 contingency table to detect strand bias"
   ]
  },
  {
   "cell_type": "code",
   "execution_count": null,
   "id": "cc4b1af5-db87-465b-b5c2-fb80958cb939",
   "metadata": {},
   "outputs": [],
   "source": [
    "plot_hist('SOR','snp') # Symmetric Odds Ratio of 2x2 contingency table to detect strand bias"
   ]
  },
  {
   "cell_type": "code",
   "execution_count": null,
   "id": "05691db6-f8ab-4bcd-85cc-7901af5e8d39",
   "metadata": {},
   "outputs": [],
   "source": [
    "plot_hist('SOR','indel') # Symmetric Odds Ratio of 2x2 contingency table to detect strand bias"
   ]
  },
  {
   "cell_type": "code",
   "execution_count": null,
   "id": "fb254af5-ae84-4254-86cf-6840680f3ce0",
   "metadata": {},
   "outputs": [],
   "source": [
    "plot_hist('SOR','invar') # Symmetric Odds Ratio of 2x2 contingency table to detect strand bias"
   ]
  },
  {
   "cell_type": "code",
   "execution_count": null,
   "id": "df7af0d9-9969-43e8-8025-159ad0981be7",
   "metadata": {},
   "outputs": [],
   "source": [
    "invariants['SOR'][:]"
   ]
  },
  {
   "cell_type": "code",
   "execution_count": null,
   "id": "ad384ed1-c751-40f5-a0ec-42e6457a4a09",
   "metadata": {},
   "outputs": [],
   "source": [
    "filter_expression = '(SOR >= 0)'\n",
    "invarSOR = invariants.query(filter_expression)[:]\n",
    "invarSOR"
   ]
  },
  {
   "cell_type": "code",
   "execution_count": null,
   "id": "25ce40e9",
   "metadata": {},
   "outputs": [],
   "source": [
    "np.count_nonzero(invarSOR)"
   ]
  },
  {
   "cell_type": "markdown",
   "id": "7c15ea1d-e55e-4fc8-8823-344c03386008",
   "metadata": {},
   "source": [
    "## MQRankSum - Z-score From Wilcoxon rank sum test of Alt vs. Ref read mapping qualities"
   ]
  },
  {
   "cell_type": "code",
   "execution_count": null,
   "id": "56f83305",
   "metadata": {},
   "outputs": [],
   "source": [
    "plot_hist('MQRankSum') # Z-score From Wilcoxon rank sum test of Alt vs. Ref read mapping qualities"
   ]
  },
  {
   "cell_type": "code",
   "execution_count": null,
   "id": "9f6d3103-b62d-4673-a940-f6a0eb55f86b",
   "metadata": {},
   "outputs": [],
   "source": [
    "plot_hist('MQRankSum','snp') # Z-score From Wilcoxon rank sum test of Alt vs. Ref read mapping qualities"
   ]
  },
  {
   "cell_type": "code",
   "execution_count": null,
   "id": "092d1d94-92bd-472e-bcb9-fae3278c1806",
   "metadata": {},
   "outputs": [],
   "source": [
    "plot_hist('MQRankSum','indel') # Z-score From Wilcoxon rank sum test of Alt vs. Ref read mapping qualities"
   ]
  },
  {
   "cell_type": "code",
   "execution_count": null,
   "id": "6c7a84a9-59bb-48fe-b8fa-d28787925f29",
   "metadata": {},
   "outputs": [],
   "source": [
    "plot_hist('MQRankSum','invar') # Z-score From Wilcoxon rank sum test of Alt vs. Ref read mapping qualities"
   ]
  },
  {
   "cell_type": "markdown",
   "id": "ac2966f2-a963-477f-aac5-5ac10dd4d4ab",
   "metadata": {},
   "source": [
    "## ReadPosRankSum - Z-score from Wilcoxon rank sum test of Alt vs. Ref read position bias"
   ]
  },
  {
   "cell_type": "code",
   "execution_count": null,
   "id": "fa7a8172",
   "metadata": {},
   "outputs": [],
   "source": [
    "plot_hist('ReadPosRankSum') # Z-score from Wilcoxon rank sum test of Alt vs. Ref read position bias"
   ]
  },
  {
   "cell_type": "code",
   "execution_count": null,
   "id": "538fcee6-5bdf-41f0-8203-558efb668348",
   "metadata": {},
   "outputs": [],
   "source": [
    "plot_hist('ReadPosRankSum','snp') # Z-score from Wilcoxon rank sum test of Alt vs. Ref read position bias"
   ]
  },
  {
   "cell_type": "code",
   "execution_count": null,
   "id": "f5483732-5bb3-47db-80f3-58bb2106fc70",
   "metadata": {},
   "outputs": [],
   "source": [
    "plot_hist('ReadPosRankSum','indel') # Z-score from Wilcoxon rank sum test of Alt vs. Ref read position bias"
   ]
  },
  {
   "cell_type": "code",
   "execution_count": null,
   "id": "b44478b1-9296-4826-88d3-268927d877a3",
   "metadata": {},
   "outputs": [],
   "source": [
    "plot_hist('ReadPosRankSum','invar') # Z-score from Wilcoxon rank sum test of Alt vs. Ref read position bias"
   ]
  },
  {
   "cell_type": "markdown",
   "id": "6f54b64a-47ab-41d4-a4eb-5f118252879f",
   "metadata": {},
   "source": [
    "## DP - Approximate read depth"
   ]
  },
  {
   "cell_type": "code",
   "execution_count": null,
   "id": "83b1a1b7-3ec9-4a19-a237-a7e0fa77589a",
   "metadata": {},
   "outputs": [],
   "source": [
    "plot_hist('DP')"
   ]
  },
  {
   "cell_type": "code",
   "execution_count": null,
   "id": "65362e05-c5bf-4dc9-9a9a-f7255932e6bc",
   "metadata": {},
   "outputs": [],
   "source": [
    "plot_hist('DP','snp')"
   ]
  },
  {
   "cell_type": "code",
   "execution_count": null,
   "id": "4ffb5245-3fad-4369-ae09-63b24e017727",
   "metadata": {},
   "outputs": [],
   "source": [
    "plot_hist('DP','biallelic')"
   ]
  },
  {
   "cell_type": "code",
   "execution_count": null,
   "id": "681f1a7d-5afb-4130-bd68-b68a3d3b18f4",
   "metadata": {},
   "outputs": [],
   "source": [
    "plot_hist('DP','indel')"
   ]
  },
  {
   "cell_type": "code",
   "execution_count": null,
   "id": "453ae714-d80d-4323-af88-beb8f4d6f63d",
   "metadata": {},
   "outputs": [],
   "source": [
    "plot_hist('DP','invar')"
   ]
  },
  {
   "cell_type": "markdown",
   "id": "6700f958-7d08-450f-b1bb-355c9c65489a",
   "metadata": {},
   "source": [
    "## AN - Total number of alleles in called genotypes"
   ]
  },
  {
   "cell_type": "code",
   "execution_count": null,
   "id": "fd865117-1680-4230-8186-a88ff2a224a5",
   "metadata": {},
   "outputs": [],
   "source": [
    "plot_hist('AN') # Total number of alleles in called genotypes"
   ]
  },
  {
   "cell_type": "code",
   "execution_count": null,
   "id": "c31ad30e-b4e7-47ea-b3b4-2c2cc5f63da7",
   "metadata": {},
   "outputs": [],
   "source": [
    "plot_hist('AN','snp') # Total number of alleles in called genotypes"
   ]
  },
  {
   "cell_type": "code",
   "execution_count": null,
   "id": "2fb7f7d3-c360-49cc-be3e-4df49f2acdca",
   "metadata": {},
   "outputs": [],
   "source": [
    "plot_hist('AN','indel') # Total number of alleles in called genotypes"
   ]
  },
  {
   "cell_type": "code",
   "execution_count": null,
   "id": "90ca6bfa-ffa0-48f2-a88e-31076fcf4320",
   "metadata": {},
   "outputs": [],
   "source": [
    "plot_hist('AN','invar') # Total number of alleles in called genotypes"
   ]
  },
  {
   "cell_type": "markdown",
   "id": "7353b5c0-86ca-479e-b495-93a44ab0a3d0",
   "metadata": {},
   "source": [
    "## Filter tests"
   ]
  },
  {
   "cell_type": "code",
   "execution_count": null,
   "id": "2df072b9-6375-450d-995e-fdad9f4c3c1b",
   "metadata": {},
   "outputs": [],
   "source": [
    "filter_expression = '(QD > 2)'\n",
    "snp_selection = biallelic_snps.query(filter_expression)[:]\n",
    "snp_selection"
   ]
  },
  {
   "cell_type": "code",
   "execution_count": null,
   "id": "7d8d3a85-3f32-42f6-9b11-1b4888e57e7a",
   "metadata": {},
   "outputs": [],
   "source": [
    "snp_selection"
   ]
  },
  {
   "cell_type": "code",
   "execution_count": null,
   "id": "9fbda015-c725-4261-a368-1760af2b1417",
   "metadata": {},
   "outputs": [],
   "source": [
    "plot_hist('QD','snp')"
   ]
  },
  {
   "cell_type": "code",
   "execution_count": null,
   "id": "26aa1681-d452-4175-b571-6339a65408f2",
   "metadata": {},
   "outputs": [],
   "source": [
    "plot_hist('QD','sel')"
   ]
  },
  {
   "cell_type": "code",
   "execution_count": null,
   "id": "5f0ae592-f3ca-41b3-8763-2c4f35f8dcc6",
   "metadata": {},
   "outputs": [],
   "source": [
    "rawsnps['DP'].mean()"
   ]
  },
  {
   "cell_type": "code",
   "execution_count": null,
   "id": "322d667c-506c-43cf-a79f-42edd164db9f",
   "metadata": {},
   "outputs": [],
   "source": [
    "biallelic_snps['DP'].mean()"
   ]
  },
  {
   "cell_type": "code",
   "execution_count": null,
   "id": "ff9b10ab-6fa8-4b56-ac67-5ecaa4848625",
   "metadata": {},
   "outputs": [],
   "source": [
    "filter_expression = '(DP > 20000) & (DP < 40000)'\n",
    "snp_selection = biallelic_snps.query(filter_expression)[:]\n",
    "snp_selection"
   ]
  },
  {
   "cell_type": "code",
   "execution_count": null,
   "id": "f118358d-1aa5-4b7b-98df-d02d649cef4b",
   "metadata": {},
   "outputs": [],
   "source": [
    "plot_hist('DP','snp')"
   ]
  },
  {
   "cell_type": "code",
   "execution_count": null,
   "id": "406e80d0-1efa-4506-aa5d-999e8a62fd02",
   "metadata": {},
   "outputs": [],
   "source": [
    "plot_hist('DP','sel')"
   ]
  },
  {
   "cell_type": "code",
   "execution_count": null,
   "id": "fe2d579b-f86a-4ebc-a53b-aaed6bd86fab",
   "metadata": {},
   "outputs": [],
   "source": [
    "snp_selection['DP'].mean()"
   ]
  },
  {
   "cell_type": "code",
   "execution_count": null,
   "id": "8d69920e-ae23-43e2-bb84-e5d069571f93",
   "metadata": {},
   "outputs": [],
   "source": [
    "qd = variants['QD'][:]\n",
    "np.count_nonzero(np.isnan(qd))"
   ]
  },
  {
   "cell_type": "code",
   "execution_count": null,
   "id": "f47ebda3",
   "metadata": {},
   "outputs": [],
   "source": [
    "filter_expression = '(DP > 20)'\n",
    "variant_selection = variants.eval(filter_expression)[:]\n",
    "np.count_nonzero(variant_selection)"
   ]
  },
  {
   "cell_type": "markdown",
   "id": "d00a0c63-c581-483a-8869-f38fc545fd2a",
   "metadata": {},
   "source": [
    "## Selected filter"
   ]
  },
  {
   "cell_type": "code",
   "execution_count": null,
   "id": "2972d4c0-0145-4c69-a9ce-6a2f17da9b9f",
   "metadata": {},
   "outputs": [],
   "source": [
    "# QD: Variant Confidence/Quality by Depth\n",
    "# AN: Total number of alleles in called genotypes\n",
    "filter_expression = '(DP > 20) & (DP < 40000) & (QD > 2) & (AN > 576) & (is_snp)'\n",
    "variant_selection = variants.eval(filter_expression)[:]\n",
    "np.count_nonzero(variant_selection)"
   ]
  },
  {
   "cell_type": "code",
   "execution_count": null,
   "id": "79b743eb-7aa3-4497-88b0-0ec0442d7c27",
   "metadata": {},
   "outputs": [],
   "source": [
    "filter_expression = '(QD >= 0.0)'\n",
    "invariant_selection = invariants.eval(filter_expression)[:]"
   ]
  },
  {
   "cell_type": "code",
   "execution_count": null,
   "id": "b9500021-526e-43a5-a2fa-2d9d0919fb91",
   "metadata": {},
   "outputs": [],
   "source": [
    "variant_selection[:]"
   ]
  },
  {
   "cell_type": "markdown",
   "id": "98d37e06-4a88-43ab-b460-9f28586dfcf1",
   "metadata": {},
   "source": [
    "## Genotype"
   ]
  },
  {
   "cell_type": "code",
   "execution_count": null,
   "id": "a5f8c45e-2c57-4c9a-9ed1-d800d6b73ad4",
   "metadata": {},
   "outputs": [],
   "source": [
    "calldata_invar = callset_invar['calldata']\n",
    "list(calldata_invar)"
   ]
  },
  {
   "cell_type": "code",
   "execution_count": null,
   "id": "0a7347b0-d2a9-44c2-86fb-e449c8266ea9",
   "metadata": {},
   "outputs": [],
   "source": [
    "calldata_invar[0]"
   ]
  },
  {
   "cell_type": "code",
   "execution_count": null,
   "id": "59b4fa2c-55c7-42d5-8057-ce5e7714eb45",
   "metadata": {},
   "outputs": [],
   "source": [
    "genotypes_invar = allel.GenotypeChunkedArray(calldata_invar['GT'])\n",
    "genotypes_invar"
   ]
  },
  {
   "cell_type": "code",
   "execution_count": null,
   "id": "c58595e0-e333-40d4-8d59-5f06a85fa4d2",
   "metadata": {},
   "outputs": [],
   "source": [
    "# using the selected filters set above\n",
    "gt_filtered_invar = genotypes_invar.subset(invariant_selection)\n",
    "gt_filtered_invar[0:1]"
   ]
  },
  {
   "cell_type": "code",
   "execution_count": null,
   "id": "642bad84-4225-4378-8b18-4dda357d35dc",
   "metadata": {},
   "outputs": [],
   "source": [
    "# grab the allele counts for the populations\n",
    "ac = gt_filtered_snps.count_alleles()\n",
    "ac"
   ]
  },
  {
   "cell_type": "code",
   "execution_count": null,
   "id": "842a8dc9-43fa-453e-abae-5e40edc6f07d",
   "metadata": {},
   "outputs": [],
   "source": [
    "ac[:]"
   ]
  },
  {
   "cell_type": "code",
   "execution_count": null,
   "id": "3eaa59f0-9f98-4b09-9502-483c26e4864a",
   "metadata": {},
   "outputs": [],
   "source": [
    "# Which ones are biallelic?\n",
    "is_biallelic_01 = ac.is_biallelic_01()[:]\n",
    "ac1 = ac.compress(is_biallelic_01, axis=0)[:, :2]\n",
    "ac1\n",
    "##this part of the code is only for graphing the SFS, is not useful for filtering biallelic sites"
   ]
  },
  {
   "cell_type": "code",
   "execution_count": null,
   "id": "9004ee66-dc5e-46d7-ac03-60a3a079de98",
   "metadata": {},
   "outputs": [],
   "source": [
    "# plot the sfs of the derived allele\n",
    "s = allel.sfs_folded(ac1)\n",
    "allel.plot_sfs(s, yscale=\"linear\", n=ac1.sum(axis=1).max())"
   ]
  },
  {
   "cell_type": "code",
   "execution_count": null,
   "id": "f417cf81-26be-4f7b-a8bd-2b433c3cb77c",
   "metadata": {},
   "outputs": [],
   "source": [
    "biallelic = (ac.max_allele() == 1)\n",
    "###This is the filter expression for biallelic sites\n",
    "biallelic"
   ]
  },
  {
   "cell_type": "code",
   "execution_count": null,
   "id": "21da1b85-60c8-4d93-9950-fb4d801051d6",
   "metadata": {},
   "outputs": [],
   "source": [
    "# select only the biallelic variants\n",
    "gt_biallelic = gt_filtered_snps.compress(biallelic)\n",
    "gt_biallelic"
   ]
  },
  {
   "cell_type": "code",
   "execution_count": null,
   "id": "c87a30aa-0eb4-49ff-b311-3198ee865680",
   "metadata": {},
   "outputs": [],
   "source": [
    "n_variants = len(gt_biallelic)\n",
    "n_variants"
   ]
  },
  {
   "cell_type": "code",
   "execution_count": null,
   "id": "a29f267e-4efa-48f9-b065-712850afe817",
   "metadata": {},
   "outputs": [],
   "source": [
    "pc_missing = gt_biallelic.count_missing(axis=0)[:] * 100 / n_variants\n",
    "pc_het = gt_biallelic.count_het(axis=0)[:] * 100 / n_variants"
   ]
  },
  {
   "cell_type": "code",
   "execution_count": null,
   "id": "7d936cfb-1f4f-447f-ae68-131c29de0d4c",
   "metadata": {},
   "outputs": [],
   "source": [
    "gt_biallelic"
   ]
  },
  {
   "cell_type": "markdown",
   "id": "7b7703a8-7e45-4125-9fc3-a29f4eb606e4",
   "metadata": {},
   "source": [
    "## Samples"
   ]
  },
  {
   "cell_type": "code",
   "execution_count": null,
   "id": "9e36c985-c57c-453c-8a8b-6c1f1252b9c2",
   "metadata": {
    "scrolled": true
   },
   "outputs": [],
   "source": [
    "samples_var = callset_var['samples']\n",
    "samples_var = list(samples_var)\n",
    "samples_var"
   ]
  },
  {
   "cell_type": "code",
   "execution_count": null,
   "id": "17245eae-311e-4668-ae2c-d07c3e94cd0d",
   "metadata": {},
   "outputs": [],
   "source": [
    "samples_var[0:4]"
   ]
  },
  {
   "cell_type": "code",
   "execution_count": null,
   "id": "11f18c36-112d-4878-acb0-4f714a58df2d",
   "metadata": {},
   "outputs": [],
   "source": [
    "samples_var[-4:]"
   ]
  },
  {
   "cell_type": "code",
   "execution_count": null,
   "id": "922409c6-30f6-4257-907d-cf9b9257842d",
   "metadata": {},
   "outputs": [],
   "source": [
    "samples_fn = '~/scratch/data/Aalba/aalba_sample_list-scikit-allel.txt'\n",
    "samples = pandas.read_csv(samples_fn, sep='\\t')\n",
    "samples"
   ]
  },
  {
   "cell_type": "code",
   "execution_count": null,
   "id": "a6248aa5-fa9c-4d2d-b716-de4c316a4a08",
   "metadata": {},
   "outputs": [],
   "source": [
    "samples.Population.value_counts()"
   ]
  },
  {
   "cell_type": "code",
   "execution_count": null,
   "id": "db8460b3-0c13-495f-87cb-f39afd17973d",
   "metadata": {},
   "outputs": [],
   "source": [
    "populations = samples.Population.unique()\n",
    "populations\n",
    "###This identifiers come from the metadata file"
   ]
  },
  {
   "cell_type": "markdown",
   "id": "f927ecad-976f-4bea-9749-e6353e36f951",
   "metadata": {
    "jp-MarkdownHeadingCollapsed": true
   },
   "source": [
    "## Gt frequency function"
   ]
  },
  {
   "cell_type": "code",
   "execution_count": null,
   "id": "9ae0fbc9-93eb-4e5f-a4a8-eb90a645031d",
   "metadata": {},
   "outputs": [],
   "source": [
    "def plot_genotype_frequency(pc, title):\n",
    "    fig, ax = plt.subplots(figsize=(24, 5))\n",
    "    sns.despine(ax=ax, offset=24)\n",
    "    left = np.arange(len(pc))\n",
    "    palette = sns.color_palette(\"hls\", 24)\n",
    "    pop2color = {'AUT00179': palette[7],\n",
    "                 'ITA00271': palette[1],\n",
    "                 'SVN00025': palette[2],\n",
    "                 'SVN00023': palette[3],\n",
    "                 'ITA00260': palette[22],\n",
    "                 'ROU00358': palette[5],\n",
    "                 'ROU00104': palette[6],\n",
    "                 'ROU00389': palette[0],\n",
    "                 'ROU00477': palette[8],\n",
    "                 'AUT00215': palette[9],\n",
    "                 'DEU00114': palette[10],\n",
    "                 'FRA00006': palette[11],\n",
    "                 'ITA00069': palette[12],\n",
    "                 'ITA00029': palette[13],\n",
    "                 'ITA00217': palette[14],\n",
    "                 'FRA00019': palette[15],\n",
    "                 'ESP00339': palette[16],\n",
    "                 'FRA00004': palette[17]}\n",
    "    colors = [pop2color[p] for p in samples.Population]\n",
    "    ax.bar(left, pc, color=colors)\n",
    "    ax.set_xlim(0, len(pc))\n",
    "    ax.set_xlabel('Sample index')\n",
    "    ax.set_ylabel('Percent calls')\n",
    "    ax.set_title(title)\n",
    "    handles = [mpl.patches.Patch(color=palette[7]),\n",
    "               mpl.patches.Patch(color=palette[1]),\n",
    "               mpl.patches.Patch(color=palette[2]),\n",
    "               mpl.patches.Patch(color=palette[3]),\n",
    "               mpl.patches.Patch(color=palette[22]),\n",
    "               mpl.patches.Patch(color=palette[5]),\n",
    "               mpl.patches.Patch(color=palette[6]),\n",
    "               mpl.patches.Patch(color=palette[0]),\n",
    "               mpl.patches.Patch(color=palette[8]),\n",
    "               mpl.patches.Patch(color=palette[9]),\n",
    "               mpl.patches.Patch(color=palette[10]),\n",
    "               mpl.patches.Patch(color=palette[11]),\n",
    "               mpl.patches.Patch(color=palette[12]),\n",
    "               mpl.patches.Patch(color=palette[13]),\n",
    "               mpl.patches.Patch(color=palette[14]),\n",
    "               mpl.patches.Patch(color=palette[15]),\n",
    "               mpl.patches.Patch(color=palette[16]),\n",
    "               mpl.patches.Patch(color=palette[17])]\n",
    "    ax.legend(handles=handles, labels=['AUT00179', 'ITA00271', 'SVN00025', 'SVN00023', 'ITA00260',\n",
    "       'ROU00358', 'ROU00104', 'ROU00389', 'ROU00477', 'AUT00215',\n",
    "       'DEU00114', 'FRA00006', 'ITA00069', 'FRA00019', 'FRA00004',\n",
    "       'ESP00339', 'ITA00217', 'ITA00029'], title='Population',\n",
    "              bbox_to_anchor=(1, 1), loc='upper left')"
   ]
  },
  {
   "cell_type": "markdown",
   "id": "4fb00e7c-e63f-4d26-9aa3-a26c9ab97eed",
   "metadata": {},
   "source": [
    "## Plot missing"
   ]
  },
  {
   "cell_type": "code",
   "execution_count": null,
   "id": "7eef3aa1-17fb-4b73-b9b1-7e2160471a80",
   "metadata": {},
   "outputs": [],
   "source": [
    "plot_genotype_frequency(pc_missing, 'Missing')"
   ]
  },
  {
   "cell_type": "code",
   "execution_count": null,
   "id": "33b1e731-9e0c-44a7-a26a-16da9b6ce7d7",
   "metadata": {},
   "outputs": [],
   "source": [
    "# sample with highest amount of missing data\n",
    "np.argsort(pc_missing)[-19:]"
   ]
  },
  {
   "cell_type": "code",
   "execution_count": null,
   "id": "021f2060-3b78-4ced-a56c-b359c58c06f3",
   "metadata": {},
   "outputs": [],
   "source": [
    "pc_missing"
   ]
  },
  {
   "cell_type": "code",
   "execution_count": null,
   "id": "38b27472-3e6c-4ddf-8460-6e2fc6fbf868",
   "metadata": {},
   "outputs": [],
   "source": [
    "samples[345:346]"
   ]
  },
  {
   "cell_type": "code",
   "execution_count": null,
   "id": "c947e7ca-9dbf-440e-9f2f-f130cd10563e",
   "metadata": {},
   "outputs": [],
   "source": [
    "samples.ID[345]"
   ]
  },
  {
   "cell_type": "code",
   "execution_count": null,
   "id": "c1166462-cced-4a6d-9d16-b9cf09dc0e0d",
   "metadata": {},
   "outputs": [],
   "source": []
  },
  {
   "cell_type": "markdown",
   "id": "5345bc23-5dba-4efb-b934-f95a41666fcb",
   "metadata": {},
   "source": [
    "## Plot heterozygosity"
   ]
  },
  {
   "cell_type": "code",
   "execution_count": null,
   "id": "3da23fc6-e131-4534-945c-f1edd5bb2ed4",
   "metadata": {},
   "outputs": [],
   "source": [
    "plot_genotype_frequency(pc_het, 'Heterozygosity')"
   ]
  },
  {
   "cell_type": "code",
   "execution_count": null,
   "id": "1b97a68e-e4a0-4e5e-99e7-9ff4434a5c67",
   "metadata": {},
   "outputs": [],
   "source": [
    "pc_het[247]"
   ]
  },
  {
   "cell_type": "code",
   "execution_count": null,
   "id": "e89012cd-38b5-42c6-9821-6c25b5afadd7",
   "metadata": {},
   "outputs": [],
   "source": [
    "gt_biallelic[247]"
   ]
  },
  {
   "cell_type": "markdown",
   "id": "2805f524-ab99-4c6e-97d0-2aa0052560e9",
   "metadata": {},
   "source": [
    "## PCA"
   ]
  },
  {
   "cell_type": "code",
   "execution_count": null,
   "id": "f4131d15-9b9c-4442-b5c9-2ccdbd9c7fc0",
   "metadata": {},
   "outputs": [],
   "source": [
    "palette = sns.color_palette(\"hls\",23)\n",
    "pop_colours = {    \n",
    "                'AUT00179': palette[7],\n",
    "                 'ITA00271': palette[1],\n",
    "                 'SVN00025': palette[2],\n",
    "                 'SVN00023': palette[3],\n",
    "                 'ITA00260': palette[22],\n",
    "                 'ROU00358': palette[5],\n",
    "                 'ROU00104': palette[6],\n",
    "                 'ROU00389': palette[0],\n",
    "                 'ROU00477': palette[8],\n",
    "                 'AUT00215': palette[9],\n",
    "                 'DEU00114': palette[10],\n",
    "                 'FRA00006': palette[11],\n",
    "                 'ITA00069': palette[12],\n",
    "                 'ITA00029': palette[13],\n",
    "                 'ITA00217': palette[14],\n",
    "                 'FRA00019': palette[15],\n",
    "                 'ESP00339': palette[16],\n",
    "                 'FRA00004': palette[17]\n",
    "}"
   ]
  },
  {
   "cell_type": "code",
   "execution_count": null,
   "id": "ce4b8494-9db5-4038-9b64-7f96378b41f8",
   "metadata": {},
   "outputs": [],
   "source": [
    "def plot_pca_coords(coords, model, pc1, pc2, ax, sample_population):\n",
    "    sns.despine(ax=ax, offset=5)\n",
    "    x = coords[:, pc1]\n",
    "    y = coords[:, pc2]\n",
    "    for pop in populations:\n",
    "        flt = (sample_population == pop)\n",
    "        ax.plot(x[flt], y[flt], marker='o', linestyle=' ', color=pop_colours[pop], \n",
    "                label=pop, markersize=6, mec='k', mew=.5)\n",
    "    ax.set_xlabel('PC%s (%.1f%%)' % (pc1+1, model.explained_variance_ratio_[pc1]*100))\n",
    "    ax.set_ylabel('PC%s (%.1f%%)' % (pc2+1, model.explained_variance_ratio_[pc2]*100))\n",
    "    \n",
    "\n",
    "def fig_pca(coords, model, title, sample_population=None):\n",
    "    if sample_population is None:\n",
    "        sample_population = samples.Population\n",
    "    # plot coords for PCs 1 vs 2, 3 vs 4\n",
    "    fig = plt.figure(figsize=(10, 5))\n",
    "    ax = fig.add_subplot(1, 2, 1)\n",
    "    plot_pca_coords(coords, model, 0, 1, ax, sample_population)\n",
    "    ax = fig.add_subplot(1, 2, 2)\n",
    "    plot_pca_coords(coords, model, 2, 3, ax, sample_population)\n",
    "    ax.legend(bbox_to_anchor=(1, 1), loc='upper left')\n",
    "    fig.suptitle(title, y=1.02)\n",
    "    fig.tight_layout()"
   ]
  },
  {
   "cell_type": "code",
   "execution_count": null,
   "id": "8c7a4a46-7cb4-4836-9d22-b9da5dcb5d15",
   "metadata": {},
   "outputs": [],
   "source": [
    "ac2 = gt_biallelic.count_alleles()\n",
    "ac2"
   ]
  },
  {
   "cell_type": "code",
   "execution_count": null,
   "id": "54a638f2-4358-43bc-abd4-9ebccbcd734a",
   "metadata": {},
   "outputs": [],
   "source": [
    "flt = (ac2[:, :2].min(axis=1) > 1)\n",
    "gf = gt_biallelic.compress(flt, axis=0)\n",
    "gn = gf.to_n_alt()\n",
    "gn"
   ]
  },
  {
   "cell_type": "code",
   "execution_count": null,
   "id": "f806b085-83e0-44d3-b561-313572e719ec",
   "metadata": {},
   "outputs": [],
   "source": [
    "coords1, model1 = allel.pca(gn, n_components=10, scaler='patterson')"
   ]
  },
  {
   "cell_type": "code",
   "execution_count": null,
   "id": "c5506a05-1740-40db-9e96-2a108059d5b4",
   "metadata": {},
   "outputs": [],
   "source": [
    "fig_pca(coords1, model1, 'Figure 1. Conventional PCA.')"
   ]
  }
 ],
 "metadata": {
  "kernelspec": {
   "display_name": "Python 3 (ipykernel)",
   "language": "python",
   "name": "python3"
  },
  "language_info": {
   "codemirror_mode": {
    "name": "ipython",
    "version": 3
   },
   "file_extension": ".py",
   "mimetype": "text/x-python",
   "name": "python",
   "nbconvert_exporter": "python",
   "pygments_lexer": "ipython3",
   "version": "3.10.13"
  }
 },
 "nbformat": 4,
 "nbformat_minor": 5
}
